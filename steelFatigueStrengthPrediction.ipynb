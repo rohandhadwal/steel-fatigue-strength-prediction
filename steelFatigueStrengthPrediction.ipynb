{
 "cells": [
  {
   "cell_type": "markdown",
   "id": "3a1f14e2-6127-4a47-aeea-db076c5a339b",
   "metadata": {},
   "source": [
    "# Steel Fatigue Strength Prediction"
   ]
  },
  {
   "cell_type": "markdown",
   "id": "49650f03-5aa4-402b-a9fa-4d70569793e5",
   "metadata": {},
   "source": [
    "## 1. Dataset and project description"
   ]
  },
  {
   "cell_type": "markdown",
   "id": "7020beb1-d067-4345-850d-87a4d86704f1",
   "metadata": {},
   "source": [
    "### 1.1\n",
    "\n",
    "**Introduction of Dataset:** \n",
    "This dataset is focused on predicting the fatigue strength of steel materials. It contains information about various steel samples and their properties, aimed at understanding and predicting their fatigue behavior. Fatigue behavior refers to how a material, in this case steel, responds to repeated cycles of stress or strain over time. Understanding fatigue behavior is crucial for predicting the lifespan and performance of materials.\n",
    "\n",
    "**Source:** \n",
    "The dataset is hosted on Kaggle from National Institute for Materials Science (NIMS), Japan, provided by [https://link.springer.com/article/10.1186/2193-9772-3-8#additional-information]. It appears to be compiled from experimental data in materials science and engineering, specifically in the field of steel fatigue strength testing.\n",
    "link: https://www.kaggle.com/datasets/chaozhuang/steel-fatigue-strength-prediction\n",
    "\n",
    "**Features:**\n",
    "There are total of 25 Features. Here is the list of features- \n",
    "\n",
    "1. Chemical Composition (in weight percentage):\n",
    "\n",
    "   C: Carbon\n",
    "   Si: Silicon \n",
    "   Mn: Manganese \n",
    "   P: Phosphorus \n",
    "   S: Sulphur \n",
    "   Ni: Nickel \n",
    "   Cr: Chromium \n",
    "   Cu: Copper \n",
    "   Mo: Molybdenum\n",
    "\n",
    "3. Heat Treatment Parameters:\n",
    "\n",
    "   NT: Normalizing Temperature\n",
    "   THT: Through Hardening Temperature\n",
    "   THt: Through Hardening Time\n",
    "   THQCr: Cooling Rate for Through Hardening\n",
    "   CT: Carburization Temperature\n",
    "   Ct: Carburization Time\n",
    "   DT: Diffusion Temperature\n",
    "   Dt: Diffusion time\n",
    "   QmT: Quenching Media Temperature (for Carburization)\n",
    "   TT: Tempering Temperature\n",
    "   Tt: Tempering Time\n",
    "   TCr: Cooling Rate for Tempering\n",
    "\n",
    "5. Processing Parameters:\n",
    "\n",
    "   RedRatio: Reduction Ratio (Ingot to Bar)\n",
    "\n",
    "7. Inclusion Parameters:\n",
    "\n",
    "   dA: Area Proportion of Inclusions Deformed by Plastic Work\n",
    "   dB: Area Proportion of Inclusions Occurring in Discontinuous Array\n",
    "   dC: Area Proportion of Isolated Inclusions\n",
    "\n",
    "**Challenges/ Limitations:**\n",
    "\n",
    "1. Risk of Overfitting:\n",
    "\n",
    "   With 437 samples and 27 features, the ratio of samples to\n",
    "   features is about 16:1, which is relatively low.This increases the risk of models\n",
    "   learning noise in the data rather than true underlying patterns.Complex models\n",
    "   might perform well on the training data but fail to generalize to new, unseen\n",
    "   data.\n",
    "\n",
    "4. Curse of Dimensionality:\n",
    "\n",
    "   With 27 dimensions and only 437 samples, the data space\n",
    "   is sparsely populated. This can lead to unreliable distance measurements between\n",
    "   data points, affecting the performance of distance-based algorithms.\n",
    "\n",
    "6. Feature Selection/Dimensionality Reduction:\n",
    "\n",
    "   Careful feature selection or dimensionality reduction techniques will be\n",
    "   crucial to mitigate overfitting.Techniques like Principal component\n",
    "   analysis (PCA)/ Recurssive Feature Elimination (RFE) might be necessary."
   ]
  },
  {
   "cell_type": "markdown",
   "id": "6578058d-fa22-4af5-aeae-af323e18bf54",
   "metadata": {},
   "source": [
    "### 1.2\n",
    "\n",
    "**About the target variable** \n",
    "\n",
    "For the purpose of our predictive regression task, the target variable is Fatigue (Measured as rotating bending fatigue strength at 10^7 cycles). We will be predicting the fatigue strength of steel based on its chemical composition, heat treatment conditions, mechanical properties, and other processing parameters.\n",
    "\n",
    "**Rationale**\n",
    "\n",
    "In materials engineering, components that experience cyclic loading such as in automotive, aerospace, and structural application, fatigue strength is a critical property. Components with high fatigue strength are less likely to fail under repeated stress. This directly impacts the safety and longevity of structures. Understanding and predicting fatigue strength can highly influence material section and design processes. Moreover, ensuring accurate predictions of fatigue strength can make heat treatment processes and chemical compositions efficient, therefore reducing the need for extensive physical testing and saving immense time & resources.\n",
    "\n",
    "\n",
    "**Relevant Features**\n",
    "\n",
    "1. Chemical Composition:\n",
    "\n",
    "   The chemical makeup of the steel plays an important role in determining its\n",
    "   mechanical properties, including the fatigue strength. These include - %C, %Si,\n",
    "   %Mn, %P, %S, %Ni, %Cr, %Cu, %Mo\n",
    "\n",
    "3. Heat Treatment Conditions:\n",
    "\n",
    "   The temperatures, times, and cooling rates for various heat treatment processes\n",
    "   can affect the microstructure and mechanical properties of steel. Following are\n",
    "   the feature columns - NT, THT, THt, THQCr, CT, Ct, DT, Dt, QmT, TT, Tt, TCr\n",
    "\n",
    "5. Processing details:\n",
    "\n",
    "   The dataset includes various details about the reduction ratio and\n",
    "   characterisitics of non-metallic inclusions that can impact fatigue strength.\n",
    "   These inclusions often act as crack initiation points. Features (RedRatio, dA,\n",
    "   dB, dC)\n",
    "\n",
    "**Potential challenges**\n",
    "\n",
    "1. Domain Knowledge Integration:\n",
    "   Effectively incorporating metallurgical knowledge into the model development\n",
    "   process to ensure physical plausibility of predictions.\n",
    "\n",
    "2. Handling Outliers:\n",
    "   Extreme values in composition or processing parameters might represent either\n",
    "   rare alloys or potential data errors, requiring careful consideration.\n",
    "\n",
    "3. Generalizability:\n",
    "   The model's ability to generalize to steel compositions or processing conditions\n",
    "   not well-represented in the dataset may be limited.\n",
    "\n",
    "**Relevance and Interest**\n",
    "\n",
    "If we are successful in predicting accurate fatigue strength, it can revolutionize how materials are designed and processed in industries that dependent heavily on high-performance materials. We can leverage predictive modeling so that manufacturers can optimize steel chemical composition, heat conditions, and processing parameters to achieve desired fatigue properties. This interesting analysis will allow us to solve the problem of building structures with weak materials. Ultimately, we can reduce material testing costs, enhance the safety, and improve the performance of engineering components.\n"
   ]
  },
  {
   "cell_type": "markdown",
   "id": "97da82b1-7697-41bc-8250-daa1041cdd9e",
   "metadata": {},
   "source": [
    "## 2. Data Preprocessing"
   ]
  },
  {
   "cell_type": "code",
   "execution_count": 88,
   "id": "835c528b-83df-45ca-90a1-5e3d85416739",
   "metadata": {},
   "outputs": [],
   "source": [
    "# Importing required packages\n",
    "\n",
    "import pandas as pd\n",
    "import numpy as np\n",
    "import matplotlib.pyplot as plt\n",
    "\n",
    "from sklearn.feature_selection import f_regression, mutual_info_regression\n",
    "from sklearn.model_selection import train_test_split\n",
    "from sklearn.ensemble import IsolationForest\n",
    "from sklearn.preprocessing import StandardScaler\n",
    "from sklearn.decomposition import PCA\n",
    "from sklearn.model_selection import KFold\n",
    "from sklearn.model_selection import GridSearchCV\n",
    "from sklearn.linear_model import LinearRegression\n",
    "\n",
    "from sklearn.svm import SVR\n",
    "from sklearn.ensemble import GradientBoostingRegressor, RandomForestRegressor\n",
    "from sklearn.neighbors import KNeighborsRegressor\n",
    "from sklearn.linear_model import ElasticNet\n",
    "from sklearn.metrics import mean_absolute_error, r2_score"
   ]
  },
  {
   "cell_type": "code",
   "execution_count": 8,
   "id": "0a4ca0bb-cd4c-426a-9ee7-514db6bceca4",
   "metadata": {},
   "outputs": [
    {
     "name": "stdout",
     "output_type": "stream",
     "text": [
      "<class 'pandas.core.frame.DataFrame'>\n",
      "RangeIndex: 437 entries, 0 to 436\n",
      "Data columns (total 27 columns):\n",
      " #   Column    Non-Null Count  Dtype  \n",
      "---  ------    --------------  -----  \n",
      " 0   Sl. No.   437 non-null    int64  \n",
      " 1   NT        437 non-null    int64  \n",
      " 2   THT       437 non-null    int64  \n",
      " 3   THt       437 non-null    int64  \n",
      " 4   THQCr     437 non-null    int64  \n",
      " 5   CT        437 non-null    int64  \n",
      " 6   Ct        437 non-null    float64\n",
      " 7   DT        437 non-null    float64\n",
      " 8   Dt        437 non-null    float64\n",
      " 9   QmT       437 non-null    int64  \n",
      " 10  TT        437 non-null    int64  \n",
      " 11  Tt        437 non-null    int64  \n",
      " 12  TCr       437 non-null    float64\n",
      " 13  C         437 non-null    float64\n",
      " 14  Si        437 non-null    float64\n",
      " 15  Mn        437 non-null    float64\n",
      " 16  P         437 non-null    float64\n",
      " 17  S         437 non-null    float64\n",
      " 18  Ni        437 non-null    float64\n",
      " 19  Cr        437 non-null    float64\n",
      " 20  Cu        437 non-null    float64\n",
      " 21  Mo        437 non-null    float64\n",
      " 22  RedRatio  437 non-null    int64  \n",
      " 23  dA        437 non-null    float64\n",
      " 24  dB        437 non-null    float64\n",
      " 25  dC        437 non-null    float64\n",
      " 26  Fatigue   437 non-null    int64  \n",
      "dtypes: float64(16), int64(11)\n",
      "memory usage: 92.3 KB\n"
     ]
    }
   ],
   "source": [
    "# Importing the dataset\n",
    "df = pd.read_csv('data.csv')\n",
    "df.info()"
   ]
  },
  {
   "cell_type": "code",
   "execution_count": 9,
   "id": "8438b210-8799-4e2e-81cf-b6cd6a36c0b0",
   "metadata": {},
   "outputs": [
    {
     "data": {
      "text/html": [
       "<div>\n",
       "<style scoped>\n",
       "    .dataframe tbody tr th:only-of-type {\n",
       "        vertical-align: middle;\n",
       "    }\n",
       "\n",
       "    .dataframe tbody tr th {\n",
       "        vertical-align: top;\n",
       "    }\n",
       "\n",
       "    .dataframe thead th {\n",
       "        text-align: right;\n",
       "    }\n",
       "</style>\n",
       "<table border=\"1\" class=\"dataframe\">\n",
       "  <thead>\n",
       "    <tr style=\"text-align: right;\">\n",
       "      <th></th>\n",
       "      <th>NT</th>\n",
       "      <th>THT</th>\n",
       "      <th>THt</th>\n",
       "      <th>THQCr</th>\n",
       "      <th>CT</th>\n",
       "      <th>Ct</th>\n",
       "      <th>DT</th>\n",
       "      <th>Dt</th>\n",
       "      <th>QmT</th>\n",
       "      <th>TT</th>\n",
       "      <th>...</th>\n",
       "      <th>S</th>\n",
       "      <th>Ni</th>\n",
       "      <th>Cr</th>\n",
       "      <th>Cu</th>\n",
       "      <th>Mo</th>\n",
       "      <th>RedRatio</th>\n",
       "      <th>dA</th>\n",
       "      <th>dB</th>\n",
       "      <th>dC</th>\n",
       "      <th>Fatigue</th>\n",
       "    </tr>\n",
       "    <tr>\n",
       "      <th>Sl. No.</th>\n",
       "      <th></th>\n",
       "      <th></th>\n",
       "      <th></th>\n",
       "      <th></th>\n",
       "      <th></th>\n",
       "      <th></th>\n",
       "      <th></th>\n",
       "      <th></th>\n",
       "      <th></th>\n",
       "      <th></th>\n",
       "      <th></th>\n",
       "      <th></th>\n",
       "      <th></th>\n",
       "      <th></th>\n",
       "      <th></th>\n",
       "      <th></th>\n",
       "      <th></th>\n",
       "      <th></th>\n",
       "      <th></th>\n",
       "      <th></th>\n",
       "      <th></th>\n",
       "    </tr>\n",
       "  </thead>\n",
       "  <tbody>\n",
       "    <tr>\n",
       "      <th>1</th>\n",
       "      <td>885</td>\n",
       "      <td>30</td>\n",
       "      <td>0</td>\n",
       "      <td>0</td>\n",
       "      <td>30</td>\n",
       "      <td>0.0</td>\n",
       "      <td>30.0</td>\n",
       "      <td>0.0</td>\n",
       "      <td>30</td>\n",
       "      <td>30</td>\n",
       "      <td>...</td>\n",
       "      <td>0.022</td>\n",
       "      <td>0.01</td>\n",
       "      <td>0.02</td>\n",
       "      <td>0.01</td>\n",
       "      <td>0.0</td>\n",
       "      <td>825</td>\n",
       "      <td>0.07</td>\n",
       "      <td>0.02</td>\n",
       "      <td>0.04</td>\n",
       "      <td>232</td>\n",
       "    </tr>\n",
       "    <tr>\n",
       "      <th>2</th>\n",
       "      <td>885</td>\n",
       "      <td>30</td>\n",
       "      <td>0</td>\n",
       "      <td>0</td>\n",
       "      <td>30</td>\n",
       "      <td>0.0</td>\n",
       "      <td>30.0</td>\n",
       "      <td>0.0</td>\n",
       "      <td>30</td>\n",
       "      <td>30</td>\n",
       "      <td>...</td>\n",
       "      <td>0.017</td>\n",
       "      <td>0.08</td>\n",
       "      <td>0.12</td>\n",
       "      <td>0.08</td>\n",
       "      <td>0.0</td>\n",
       "      <td>610</td>\n",
       "      <td>0.11</td>\n",
       "      <td>0.00</td>\n",
       "      <td>0.04</td>\n",
       "      <td>235</td>\n",
       "    </tr>\n",
       "    <tr>\n",
       "      <th>3</th>\n",
       "      <td>885</td>\n",
       "      <td>30</td>\n",
       "      <td>0</td>\n",
       "      <td>0</td>\n",
       "      <td>30</td>\n",
       "      <td>0.0</td>\n",
       "      <td>30.0</td>\n",
       "      <td>0.0</td>\n",
       "      <td>30</td>\n",
       "      <td>30</td>\n",
       "      <td>...</td>\n",
       "      <td>0.015</td>\n",
       "      <td>0.02</td>\n",
       "      <td>0.03</td>\n",
       "      <td>0.01</td>\n",
       "      <td>0.0</td>\n",
       "      <td>1270</td>\n",
       "      <td>0.07</td>\n",
       "      <td>0.02</td>\n",
       "      <td>0.00</td>\n",
       "      <td>235</td>\n",
       "    </tr>\n",
       "    <tr>\n",
       "      <th>4</th>\n",
       "      <td>885</td>\n",
       "      <td>30</td>\n",
       "      <td>0</td>\n",
       "      <td>0</td>\n",
       "      <td>30</td>\n",
       "      <td>0.0</td>\n",
       "      <td>30.0</td>\n",
       "      <td>0.0</td>\n",
       "      <td>30</td>\n",
       "      <td>30</td>\n",
       "      <td>...</td>\n",
       "      <td>0.024</td>\n",
       "      <td>0.01</td>\n",
       "      <td>0.02</td>\n",
       "      <td>0.01</td>\n",
       "      <td>0.0</td>\n",
       "      <td>1740</td>\n",
       "      <td>0.06</td>\n",
       "      <td>0.00</td>\n",
       "      <td>0.00</td>\n",
       "      <td>241</td>\n",
       "    </tr>\n",
       "    <tr>\n",
       "      <th>5</th>\n",
       "      <td>885</td>\n",
       "      <td>30</td>\n",
       "      <td>0</td>\n",
       "      <td>0</td>\n",
       "      <td>30</td>\n",
       "      <td>0.0</td>\n",
       "      <td>30.0</td>\n",
       "      <td>0.0</td>\n",
       "      <td>30</td>\n",
       "      <td>30</td>\n",
       "      <td>...</td>\n",
       "      <td>0.022</td>\n",
       "      <td>0.01</td>\n",
       "      <td>0.02</td>\n",
       "      <td>0.02</td>\n",
       "      <td>0.0</td>\n",
       "      <td>825</td>\n",
       "      <td>0.04</td>\n",
       "      <td>0.02</td>\n",
       "      <td>0.00</td>\n",
       "      <td>225</td>\n",
       "    </tr>\n",
       "  </tbody>\n",
       "</table>\n",
       "<p>5 rows × 26 columns</p>\n",
       "</div>"
      ],
      "text/plain": [
       "          NT  THT  THt  THQCr  CT   Ct    DT   Dt  QmT  TT  ...      S    Ni  \\\n",
       "Sl. No.                                                     ...                \n",
       "1        885   30    0      0  30  0.0  30.0  0.0   30  30  ...  0.022  0.01   \n",
       "2        885   30    0      0  30  0.0  30.0  0.0   30  30  ...  0.017  0.08   \n",
       "3        885   30    0      0  30  0.0  30.0  0.0   30  30  ...  0.015  0.02   \n",
       "4        885   30    0      0  30  0.0  30.0  0.0   30  30  ...  0.024  0.01   \n",
       "5        885   30    0      0  30  0.0  30.0  0.0   30  30  ...  0.022  0.01   \n",
       "\n",
       "           Cr    Cu   Mo  RedRatio    dA    dB    dC  Fatigue  \n",
       "Sl. No.                                                        \n",
       "1        0.02  0.01  0.0       825  0.07  0.02  0.04      232  \n",
       "2        0.12  0.08  0.0       610  0.11  0.00  0.04      235  \n",
       "3        0.03  0.01  0.0      1270  0.07  0.02  0.00      235  \n",
       "4        0.02  0.01  0.0      1740  0.06  0.00  0.00      241  \n",
       "5        0.02  0.02  0.0       825  0.04  0.02  0.00      225  \n",
       "\n",
       "[5 rows x 26 columns]"
      ]
     },
     "execution_count": 9,
     "metadata": {},
     "output_type": "execute_result"
    }
   ],
   "source": [
    "# Setting Sl. No. as index\n",
    "df.set_index('Sl. No.', inplace=True)\n",
    "df.head()"
   ]
  },
  {
   "cell_type": "code",
   "execution_count": 10,
   "id": "09c4e4ae-b98a-488b-8267-bbf70f5d8602",
   "metadata": {},
   "outputs": [],
   "source": [
    "# Splitting the dataset into features and target variables\n",
    "\n",
    "# features\n",
    "X = df.drop('Fatigue',axis=1)\n",
    "\n",
    "# target\n",
    "Y = df['Fatigue']"
   ]
  },
  {
   "cell_type": "markdown",
   "id": "7a20adc1-7196-4b29-a3d8-b1e4332831bc",
   "metadata": {},
   "source": [
    "### 2.1 Train-test split"
   ]
  },
  {
   "cell_type": "code",
   "execution_count": 12,
   "id": "b636e785-97b9-4b16-b818-1309040f3a0e",
   "metadata": {},
   "outputs": [],
   "source": [
    "# Splitting dataset into X,Y Train test values\n",
    "X_train, X_test, Y_train, Y_test = train_test_split(X, Y, test_size=0.20)"
   ]
  },
  {
   "cell_type": "markdown",
   "id": "607750c0-44b5-4043-9670-409057d5fa57",
   "metadata": {},
   "source": [
    "### 2.2 Preprocessing steps"
   ]
  },
  {
   "cell_type": "markdown",
   "id": "3e7570c9-2cde-41de-ab3a-2dd4c5a077d9",
   "metadata": {},
   "source": [
    "#### Handling missing data"
   ]
  },
  {
   "cell_type": "code",
   "execution_count": 15,
   "id": "666faf7d-493d-476f-a072-eb055deda140",
   "metadata": {},
   "outputs": [
    {
     "name": "stdout",
     "output_type": "stream",
     "text": [
      "Missing values in features (X): NT          0\n",
      "THT         0\n",
      "THt         0\n",
      "THQCr       0\n",
      "CT          0\n",
      "Ct          0\n",
      "DT          0\n",
      "Dt          0\n",
      "QmT         0\n",
      "TT          0\n",
      "Tt          0\n",
      "TCr         0\n",
      "C           0\n",
      "Si          0\n",
      "Mn          0\n",
      "P           0\n",
      "S           0\n",
      "Ni          0\n",
      "Cr          0\n",
      "Cu          0\n",
      "Mo          0\n",
      "RedRatio    0\n",
      "dA          0\n",
      "dB          0\n",
      "dC          0\n",
      "dtype: int64\n",
      "Missing values in target (Y): 0\n"
     ]
    }
   ],
   "source": [
    "# Check for NaN values in features (X)\n",
    "print(\"Missing values in features (X):\", np.isnan(X).sum())\n",
    "\n",
    "# Check for NaN values in target (Y)\n",
    "print(\"Missing values in target (Y):\", np.isnan(Y).sum())"
   ]
  },
  {
   "cell_type": "markdown",
   "id": "61c7ce4a-44a8-4bb7-8e66-953555151b5d",
   "metadata": {},
   "source": [
    "This shows that our dataset does not include any null values. Hence, no null values need to be dropped."
   ]
  },
  {
   "cell_type": "markdown",
   "id": "5bf0cea4-1e1d-4349-a8a9-8bf511fe843b",
   "metadata": {},
   "source": [
    "#### Outlier detection and removal"
   ]
  },
  {
   "cell_type": "markdown",
   "id": "eea2e450-ad4a-482f-bbaa-e6e98e06e03e",
   "metadata": {},
   "source": [
    "We are using Isolation Forest algorithm for outlier detection because it effectively identifies anomalies by isolating observations in a random sub-sample of data. Given the complexity of the dataset, this method is particularly suitable as it can handle high-dimensional data efficiently and is robust to irrelevant features. "
   ]
  },
  {
   "cell_type": "code",
   "execution_count": 19,
   "id": "d467363a-8b41-4aea-aeaa-86d592f3d672",
   "metadata": {},
   "outputs": [
    {
     "name": "stdout",
     "output_type": "stream",
     "text": [
      "Number of outliers removed: 39\n"
     ]
    }
   ],
   "source": [
    "# Setting the contamination\n",
    "outliers_fraction = 0.11\n",
    "\n",
    "# create an instance\n",
    "model =  IsolationForest(n_estimators=500, max_samples = 0.8, max_features= 0.8, contamination = outliers_fraction,bootstrap=True)\n",
    "\n",
    "# train isolation forest model\n",
    "model.fit(X_train)\n",
    "\n",
    "# predict train outliers\n",
    "outlier_labels = model.predict(X_train)\n",
    "\n",
    "# Inlier training dataset\n",
    "X_train_i = X_train[outlier_labels==1] ## inlier training feature set\n",
    "Y_train_i = Y_train[outlier_labels==1] ## inlier training target set\n",
    "\n",
    "# Inlier test dataset\n",
    "X_test_i =X_test[model.predict(X_test)==1] ## inlier test feature set\n",
    "Y_test_i =Y_test[model.predict(X_test)==1] ## inlier test target set\n",
    "\n",
    "# Number of outliers detected and removed\n",
    "print('Number of outliers removed:',len(X_train[outlier_labels==-1])) # outlier in training data"
   ]
  },
  {
   "cell_type": "markdown",
   "id": "0a14278b-3bbd-463d-bd24-2c4ce3175054",
   "metadata": {},
   "source": [
    "#### Scaling"
   ]
  },
  {
   "cell_type": "markdown",
   "id": "43a44e05-d4bc-4080-a171-f475836ed8a5",
   "metadata": {},
   "source": [
    "We are using the StandardScaler to standardize our dataset. Standardization helps ensure that each feature contributes equally to the analysis, improving the performance of subsequent models, especially those sensitive to feature scaling."
   ]
  },
  {
   "cell_type": "code",
   "execution_count": 22,
   "id": "f0a00190-37b0-40a9-b22b-f70fc35191b4",
   "metadata": {},
   "outputs": [
    {
     "name": "stdout",
     "output_type": "stream",
     "text": [
      "standard deviation for X_train_s_i: \n",
      "[1. 1. 1. 1. 1. 1. 1. 1. 1. 1. 1. 1. 1. 1. 1. 1. 1. 1. 1. 1. 1. 1. 1. 1.\n",
      " 1.] \n",
      "\n",
      "standard deviation for X_test_s_ii: \n",
      "[1.02229956 1.13085777 1.13154855 0.99190182 1.13154855 1.03673813\n",
      " 1.13624641 1.09447179 0.72984665 1.0521418  1.13154855 1.13154855\n",
      " 1.02562317 0.50424144 1.05710305 0.91779459 0.93971201 1.01704172\n",
      " 0.97101797 1.07480628 1.05493974 0.66756562 0.94665517 1.09874803\n",
      " 1.25993649] \n"
     ]
    }
   ],
   "source": [
    "# instantiate\n",
    "scaler = StandardScaler() \n",
    "\n",
    "# Training the model\n",
    "scaler.fit(X_train_i)\n",
    "\n",
    "# transform the train dataset to standardized data\n",
    "X_train_s_i = scaler.transform(X_train_i) \n",
    "\n",
    "# standardized training dataset\n",
    "print(\"standard deviation for X_train_s_i: \\n%s \" % X_train_s_i.std(axis=0))\n",
    "\n",
    "# transform the test data to standardized data\n",
    "X_test_s_i  = scaler.transform(X_test_i)\n",
    "\n",
    "# standardized test dataset\n",
    "print(\"\\nstandard deviation for X_test_s_ii: \\n%s \" % X_test_s_i.std(axis=0))\n"
   ]
  },
  {
   "cell_type": "markdown",
   "id": "17155249-a413-43b7-9e35-aeb4f22d031f",
   "metadata": {},
   "source": [
    "#### Feature selection"
   ]
  },
  {
   "cell_type": "markdown",
   "id": "e4e4dc34-7f63-471b-8386-6702bb2d576a",
   "metadata": {},
   "source": [
    "We have used ANOVA F-statistic scores and Mutual Information (MI) scores for feature selection to understand the association between features and the target variable. \n",
    "A large F-score with a small p-value indicates a strong linear relationship and statistical significance, suggesting that the feature is likely important for prediction. \n",
    "A large MI score complements this by capturing the non-linear dependencies. \n",
    "This combination helps ensure that selected features are both statistically significant and informative."
   ]
  },
  {
   "cell_type": "code",
   "execution_count": 140,
   "id": "1f56e0e7-2f9e-418f-8165-fbe7df6cab5c",
   "metadata": {},
   "outputs": [
    {
     "data": {
      "text/plain": [
       "Text(0.5, 0, 'features')"
      ]
     },
     "execution_count": 140,
     "metadata": {},
     "output_type": "execute_result"
    },
    {
     "data": {
      "image/png": "[encoded data removed]",
      "text/plain": [
       "<Figure size 640x480 with 1 Axes>"
      ]
     },
     "metadata": {},
     "output_type": "display_data"
    }
   ],
   "source": [
    "# Calculating f score and p value\n",
    "f, p = f_regression(X_train_s_i, Y_train_i)\n",
    "f /= np.max(f) # normalize f score\n",
    "\n",
    "# Calculating mi score\n",
    "mi = mutual_info_regression(X_train_s_i, Y_train_i)\n",
    "mi /= np.max(mi) # normalize mi score\n",
    "\n",
    "\n",
    "## find the threshold for mi score\n",
    "plt.figure()\n",
    "plt.plot(mi, 'o')\n",
    "plt.plot(0.3*np.ones(len(mi)))\n",
    "plt.ylabel('mi score')\n",
    "plt.xlabel('features')\n"
   ]
  },
  {
   "cell_type": "code",
   "execution_count": 142,
   "id": "576ae262-8831-401d-bffb-2389fd15616b",
   "metadata": {},
   "outputs": [
    {
     "data": {
      "text/plain": [
       "Text(0.5, 0, 'features')"
      ]
     },
     "execution_count": 142,
     "metadata": {},
     "output_type": "execute_result"
    },
    {
     "data": {
      "image/png": "[encoded data removed]",
      "text/plain": [
       "<Figure size 640x480 with 1 Axes>"
      ]
     },
     "metadata": {},
     "output_type": "display_data"
    }
   ],
   "source": [
    "## find the threshold for f score\n",
    "plt.figure()\n",
    "plt.plot(f, 'o')\n",
    "plt.plot(0.25*np.ones(len(f)))\n",
    "plt.ylabel('f score')\n",
    "plt.xlabel('features')"
   ]
  },
  {
   "cell_type": "code",
   "execution_count": 144,
   "id": "c7793b43-0428-4eae-860a-5a8000bf7e5b",
   "metadata": {},
   "outputs": [
    {
     "data": {
      "text/plain": [
       "Text(0.5, 0, 'features')"
      ]
     },
     "execution_count": 144,
     "metadata": {},
     "output_type": "execute_result"
    },
    {
     "data": {
      "image/png": "[encoded data removed]",
      "text/plain": [
       "<Figure size 640x480 with 1 Axes>"
      ]
     },
     "metadata": {},
     "output_type": "display_data"
    }
   ],
   "source": [
    "## Finding threshold for p values\n",
    "plt.figure()\n",
    "plt.semilogy(p, 'o')\n",
    "plt.plot(10**-7*np.ones(len(f)))\n",
    "plt.ylabel('p value')\n",
    "plt.xlabel('features')"
   ]
  },
  {
   "cell_type": "code",
   "execution_count": 146,
   "id": "0c5dae9a-63b6-4854-9b50-d61829c2a4ae",
   "metadata": {},
   "outputs": [
    {
     "name": "stdout",
     "output_type": "stream",
     "text": [
      "(310, 14)\n",
      "(80, 14)\n"
     ]
    }
   ],
   "source": [
    "# Feature Selection using mask (f>0.25) or MI values (mi>0.3)]\n",
    "X_train_s_i_r = X_train_s_i[:,(f > 0.25) | (mi > 0.3)] \n",
    "X_test_s_i_r = X_test_s_i[:,(f > 0.25) | (mi > 0.3)]\n",
    "\n",
    "print(X_train_s_i_r.shape)\n",
    "print(X_test_s_i_r.shape)"
   ]
  },
  {
   "cell_type": "markdown",
   "id": "d5b15b2a-f8fa-4a26-8bca-1d409efcf29b",
   "metadata": {},
   "source": [
    "#### Feature Reduction"
   ]
  },
  {
   "cell_type": "markdown",
   "id": "93cfa2d8-600f-4f7e-93d8-445190ece8d6",
   "metadata": {},
   "source": [
    "We are using Principal Component Analysis (PCA) to reduce the features in our dataset while retaining 95% of the variance. This method is particularly beneficial because it helps eliminate redundant and collinear features, simplifying the model without losing critical information. By focusing on the most significant components, we can improve the model performance."
   ]
  },
  {
   "cell_type": "code",
   "execution_count": 29,
   "id": "431ab8e5-0111-47bf-9e9c-114ac5d42028",
   "metadata": {},
   "outputs": [
    {
     "name": "stdout",
     "output_type": "stream",
     "text": [
      "(310, 5)\n",
      "(80, 5)\n"
     ]
    }
   ],
   "source": [
    "# Instantiate PCA and explaining 95% variance in the dataset\n",
    "pca = PCA(n_components=0.95)\n",
    "\n",
    "# Fitting PCA on the standardized inlier training data and transforming it\n",
    "X_train_pca = pca.fit_transform(X_train_s_i_r)\n",
    "\n",
    "# Transform the standardized inlier test data\n",
    "X_test_pca = pca.transform(X_test_s_i_r)\n",
    "\n",
    "# Displaying shape for train and test datasets\n",
    "print(X_train_pca.shape)\n",
    "print(X_test_pca.shape)"
   ]
  },
  {
   "cell_type": "markdown",
   "id": "26994057-f3c5-497d-9ab8-bc1cfa0e986b",
   "metadata": {},
   "source": [
    "### 2.3 Preprocessing sequence"
   ]
  },
  {
   "cell_type": "markdown",
   "id": "e7091fbe-ac26-45f0-9ee4-841067d29c14",
   "metadata": {},
   "source": [
    "The preprocessing steps we have chosen are as follows-\n",
    "\n",
    "1.⁠ ⁠Outlier Detection using Isolation Forest **-->** 2.⁠ ⁠Scaling using Standard Scaler **-->** 3. Feature Selection using ANOVA F-statistic scores and Mutual Information (MI) scores **-->** 4.⁠ ⁠Feature Reduction using PCA\n",
    "\n",
    "We believe this is the best set of sequence because - \n",
    "\n",
    "By detecting and removing outliers before scaling, we prevent extreme values from skewing the scaling process, which could disproportionately affect the mean and standard deviation.\n",
    "Scaling is necessary before PCA, as PCA is sensitive to feature scaling. Features with larger magnitudes would dominate the principal components if left unscaled.\n",
    "Implementing feature selection next allows us to retain only the most relevant features based on their relationship with the target variable, which streamlines the dataset for more efficient processing. \n",
    "Feature reduction through PCA is done last, as it helps us reduce dimensionality while retaining the most important variations in the dataset only after the dataset has been cleaned and normalized. These steps should increase the likelihood of enhancing our models' generalization performance.\n",
    "\n",
    "We also tried the following Sequence-\n",
    "Scaling → Outlier Detection → PCA\n",
    "\n",
    "However, we received poor PCA results. This was mainly due to the fact that we did Scaling before removing outliers which distorted the mean and the standard deviation for the dataset, leading to incorrect detection of anomalies and poor PCA results. This sequence doesn't adequately clean or standardize the data, resulting in a less robust dataset for model training.\n",
    "\n",
    "Hence, we believe the steps we have chosen lead to an optimal solution."
   ]
  },
  {
   "cell_type": "markdown",
   "id": "6cf76c9a-77e0-4764-9989-2e0da6d1e3fd",
   "metadata": {},
   "source": [
    "## 3. Model Training and Testing"
   ]
  },
  {
   "cell_type": "markdown",
   "id": "2bd13794-0827-41d3-9294-5047205ed6ee",
   "metadata": {},
   "source": [
    "### 3.1 Hyperparameter Optimization"
   ]
  },
  {
   "cell_type": "markdown",
   "id": "f9035c60-04ec-48d9-83cd-01022a3f94fd",
   "metadata": {},
   "source": [
    "We have selected the following 5 regression techniques -\n",
    "1. Gradient Boosting\n",
    "2. Random Forest\n",
    "3. Support Vector Regression (SVR)\n",
    "4. Linear Regression\n",
    "5. K Nearest Neighbors (KNN)"
   ]
  },
  {
   "cell_type": "code",
   "execution_count": 384,
   "id": "b5fa03ce-0816-42f8-9237-41c34758add1",
   "metadata": {},
   "outputs": [],
   "source": [
    "# Setting up parameters\n",
    "\n",
    "# Support Vector Regression\n",
    "svr = SVR()\n",
    "svr_param = {'C': [0.1, 1, 10, 100], 'epsilon': [0.01, 0.1, 0.5]}\n",
    "\n",
    "# Gradient Boosting Regressor\n",
    "gbr = GradientBoostingRegressor()\n",
    "gbr_param = {'n_estimators': [100, 200, 300], 'learning_rate': [0.01, 0.1, 0.2], 'max_depth': [3, 5, 7, 10, 20]}\n",
    "\n",
    "# K-Nearest Neighbors Regressor\n",
    "knn = KNeighborsRegressor()\n",
    "knn_param = {'n_neighbors': [3, 5, 7, 10]}\n",
    "\n",
    "# Linear Regression\n",
    "lr = LinearRegression()\n",
    "lr_param = {} \n",
    "\n",
    "# Random Forest Regressor\n",
    "rf = RandomForestRegressor()\n",
    "rf_param = {'n_estimators': [100, 200, 300], 'max_depth': [3, 5, 7, 10, 20]}"
   ]
  },
  {
   "cell_type": "code",
   "execution_count": 386,
   "id": "03386c52-c7f2-4232-ad5c-1f22684d11a8",
   "metadata": {},
   "outputs": [],
   "source": [
    "# Prepare Grid Searches\n",
    "grid_svr = GridSearchCV(svr, param_grid=svr_param, cv=5, verbose=1)\n",
    "grid_gb = GridSearchCV(gbr, param_grid=gbr_param, cv=5, verbose=1)\n",
    "grid_knn = GridSearchCV(knn, param_grid=knn_param, cv=5, verbose=1)\n",
    "grid_lr = GridSearchCV(lr, param_grid=lr_param, cv=5, verbose=1)\n",
    "grid_rf = GridSearchCV(rf, param_grid=rf_param, cv=5, verbose=1)"
   ]
  },
  {
   "cell_type": "code",
   "execution_count": 37,
   "id": "83dad0cd-f8a5-4107-981a-1e9c54988a32",
   "metadata": {},
   "outputs": [
    {
     "name": "stdout",
     "output_type": "stream",
     "text": [
      "Fitting 5 folds for each of 12 candidates, totalling 60 fits\n",
      "Fitting 5 folds for each of 45 candidates, totalling 225 fits\n",
      "Fitting 5 folds for each of 4 candidates, totalling 20 fits\n",
      "Fitting 5 folds for each of 1 candidates, totalling 5 fits\n",
      "Fitting 5 folds for each of 15 candidates, totalling 75 fits\n",
      "SVR: Best Params: {'C': 100, 'epsilon': 0.1}, Best Score: 0.9406426897765623\n",
      "Gradient Boosting: Best Params: {'learning_rate': 0.1, 'max_depth': 3, 'n_estimators': 100}, Best Score: 0.9433921837026791\n",
      "KNN: Best Params: {'n_neighbors': 7}, Best Score: 0.9408251318203498\n",
      "Linear Regression: Best Params: {}, Best Score: 0.9080026093462269\n",
      "Random Forest: Best Params: {'max_depth': 10, 'n_estimators': 300}, Best Score: 0.9438889223729406\n"
     ]
    }
   ],
   "source": [
    "# Defining results\n",
    "results = {}\n",
    "\n",
    "# SVR\n",
    "grid_svr.fit(X_train_pca, Y_train_i)\n",
    "results['SVR'] = (grid_svr.best_params_, grid_svr.best_score_)\n",
    "\n",
    "# Gradient Boosting\n",
    "grid_gb.fit(X_train_pca, Y_train_i)\n",
    "results['Gradient Boosting'] = (grid_gb.best_params_, grid_gb.best_score_)\n",
    "\n",
    "# KNN\n",
    "grid_knn.fit(X_train_pca, Y_train_i)\n",
    "results['KNN'] = (grid_knn.best_params_, grid_knn.best_score_)\n",
    "\n",
    "# Linear Regression\n",
    "grid_lr.fit(X_train_pca, Y_train_i)\n",
    "results['Linear Regression'] = (grid_lr.best_params_, grid_lr.best_score_)\n",
    "\n",
    "# Random Forest\n",
    "grid_rf.fit(X_train_pca, Y_train_i)\n",
    "results['Random Forest'] = (grid_rf.best_params_, grid_rf.best_score_)\n",
    "\n",
    "# Print results\n",
    "for model, (params, score) in results.items():\n",
    "    print(f\"{model}: Best Params: {params}, Best Score: {score}\")"
   ]
  },
  {
   "cell_type": "markdown",
   "id": "541fe434-1509-4861-832d-58c8297fd04b",
   "metadata": {},
   "source": [
    "### 3.2 Comparing Generalization vs Memorization"
   ]
  },
  {
   "cell_type": "markdown",
   "id": "304047be-dea6-40d9-9449-3dfae8a6b13b",
   "metadata": {},
   "source": [
    "Metric chosen to compare - **Mean Absolute Value**"
   ]
  },
  {
   "cell_type": "code",
   "execution_count": 40,
   "id": "92913da1-ac94-4e59-b0dc-6ac41f51aad2",
   "metadata": {},
   "outputs": [],
   "source": [
    "# Generalization using MAE\n",
    "\n",
    "# Define dictionary to store generalization results\n",
    "mae_results_generalization = {}\n",
    "\n",
    "# Function to calculate MAE\n",
    "def mae_score(model_name, X, Y):\n",
    "    Y_pred = model_name.predict(X)\n",
    "    mae = mean_absolute_error(Y, Y_pred)\n",
    "    return mae\n",
    "\n",
    "# Calculate MAE for each optimized model (generalization)\n",
    "mae_results_generalization['SVR'] = mae_score(grid_svr.best_estimator_, X_test_pca, Y_test_i)\n",
    "mae_results_generalization['Gradient Boosting'] = mae_score(grid_gb.best_estimator_, X_test_pca, Y_test_i)\n",
    "mae_results_generalization['KNN'] = mae_score(grid_knn.best_estimator_, X_test_pca, Y_test_i)\n",
    "mae_results_generalization['Linear Regression'] = mae_score(grid_lr.best_estimator_, X_test_pca, Y_test_i)\n",
    "mae_results_generalization['Random Forest'] = mae_score(grid_rf.best_estimator_, X_test_pca, Y_test_i)\n",
    "\n",
    "# Extract model names and MAE values\n",
    "model_names = list(mae_results_generalization.keys())\n",
    "mae_scores_generalization = list(mae_results_generalization.values())"
   ]
  },
  {
   "cell_type": "code",
   "execution_count": 41,
   "id": "218d5906-6525-4f64-98e5-14b423f6b6cd",
   "metadata": {},
   "outputs": [],
   "source": [
    "# Memorization using MAE\n",
    "\n",
    "# Define dictionary to store memorization results\n",
    "mae_results_memorization = {}\n",
    "\n",
    "# Calculate MAE for each optimized model (memorization)\n",
    "mae_results_memorization['SVR'] = mae_score(grid_svr.best_estimator_, X_train_pca, Y_train_i)\n",
    "mae_results_memorization['Gradient Boosting'] = mae_score(grid_gb.best_estimator_, X_train_pca, Y_train_i)\n",
    "mae_results_memorization['KNN'] = mae_score(grid_knn.best_estimator_, X_train_pca, Y_train_i)\n",
    "mae_results_memorization['Linear Regression'] = mae_score(grid_lr.best_estimator_, X_train_pca, Y_train_i)\n",
    "mae_results_memorization['Random Forest'] = mae_score(grid_rf.best_estimator_, X_train_pca, Y_train_i)\n",
    "\n",
    "# Extract MAE values\n",
    "mae_scores_memorization = list(mae_results_memorization.values())"
   ]
  },
  {
   "cell_type": "code",
   "execution_count": 70,
   "id": "17fc615d-c5b9-4d29-a07a-6cb52149e7dc",
   "metadata": {},
   "outputs": [
    {
     "data": {
      "image/png": "[encoded data removed]",
      "text/plain": [
       "<Figure size 1000x600 with 1 Axes>"
      ]
     },
     "metadata": {},
     "output_type": "display_data"
    }
   ],
   "source": [
    "# Set the positions and width for the bars\n",
    "x = np.arange(len(model_names))\n",
    "width = 0.35\n",
    "\n",
    "# Create a bar plot\n",
    "fig, ax = plt.subplots(figsize=(10, 6))\n",
    "bars1 = ax.bar(x - width/2, mae_scores_memorization, width, label='Memorization (MAE)', color='blue')\n",
    "bars2 = ax.bar(x + width/2, mae_scores_generalization, width, label='Generalization (MAE)', color='red')\n",
    "\n",
    "# Add plot properties and labels\n",
    "ax.set_ylabel('Mean Absolute Error (MAE)')\n",
    "ax.set_title('Comparison of Memorization and Generalization MAE for Models')\n",
    "ax.set_xticks(x)\n",
    "ax.set_xticklabels(model_names)\n",
    "ax.legend()\n",
    "\n",
    "# Show plot\n",
    "plt.tight_layout()\n",
    "plt.show()"
   ]
  },
  {
   "cell_type": "markdown",
   "id": "2acf3b08-50b2-4db8-b2d7-42083beebb52",
   "metadata": {},
   "source": [
    "In the plot, the blue bars represent the Memorization (training) Mean Absolute Error (MAE), while the red bars represent the Generalization (testing) MAE across different regression models.\n",
    "\n",
    "Given that Gradient Boosting and Random Forest have lower Memorization MAE but have a larger gap between Memorization and Generalization MAE compared to SVR and KNN, we decided to focus on which models balance both memorization and generalization effectively.\n",
    "\n",
    "**Most Reliable Techniques**: KNN & SVR\n",
    "\n",
    "**Explanation:**\n",
    "- KNN and SVR have a smaller gap between Memorization and Generalization MAE, indicating they are less prone to overfitting and generalize better to unseen data.\n",
    "- KNN and SVR have a high cross validation score (~94%)\n",
    "- Even though Gradient Boosting and Random Forest have lower Memorization MAE, their significant gap suggests that they may not generalize as effectively, potentially overfitting the training data.\n",
    "\n",
    "Therefore, KNN and SVR are more reliable for predictive tasks in this context since they offer a more balanced performance between training and testing error."
   ]
  },
  {
   "cell_type": "markdown",
   "id": "d2bc0e74-1c8b-46d2-956f-eeaecee34acb",
   "metadata": {},
   "source": [
    "## 4. Additional Analysis"
   ]
  },
  {
   "cell_type": "markdown",
   "id": "12578265-52d1-4987-b759-766f077ec429",
   "metadata": {},
   "source": [
    "### 4.1 Impact of Training dataset on Generalization Performance"
   ]
  },
  {
   "cell_type": "markdown",
   "id": "aa0a37ed-ee22-485d-aa9e-33c4257704c5",
   "metadata": {},
   "source": [
    "For this question, we will analyze the generalization performance of **KNN** and **SVR** models by analyzing their Mean Absolute Error (MAE) and R² scores against the training dataset sizes"
   ]
  },
  {
   "cell_type": "code",
   "execution_count": 344,
   "id": "95f68d6e-184b-46bc-9916-dc1b9c88d7b2",
   "metadata": {},
   "outputs": [
    {
     "data": {
      "image/png": "[encoded data removed]",
      "text/plain": [
       "<Figure size 1400x600 with 2 Axes>"
      ]
     },
     "metadata": {},
     "output_type": "display_data"
    }
   ],
   "source": [
    "# Training set sizes\n",
    "training_sizes = [0.1, 0.2, 0.4, 0.6, 0.8, 1.0]\n",
    "\n",
    "# Creating arrray for storing performance results\n",
    "mae_scores_knn = []\n",
    "mae_scores_svr = []\n",
    "r2_scores_knn = []\n",
    "r2_scores_svr = []\n",
    "\n",
    "# Function to calculate MAE and R2 score\n",
    "def mae_r2_score(model_name, X, Y):\n",
    "    Y_pred = model_name.predict(X)\n",
    "    mae = mean_absolute_error(Y, Y_pred)\n",
    "    r2 = r2_score(Y, Y_pred)\n",
    "    return mae,r2\n",
    "\n",
    "\n",
    "# Iterating through increasing training sets\n",
    "for i in training_sizes:\n",
    "    \n",
    "    # Subset the training data\n",
    "    X_train_pca_subset = X_train_pca[:int(len(X_train_pca) * i)]\n",
    "    Y_train_i_subset = Y_train_i[:int(len(Y_train_i) * i)]\n",
    "\n",
    "    # Train KNN model (optimized) on the subset\n",
    "    knn_optimized = KNeighborsRegressor(n_neighbors=7)\n",
    "    knn_optimized.fit(X_train_pca_subset, Y_train_i_subset)\n",
    "\n",
    "    # Train SVR (optimized) on the subset\n",
    "    svr_optimized = SVR(C=100, epsilon=0.1)\n",
    "    svr_optimized.fit(X_train_pca_subset, Y_train_i_subset)\n",
    "\n",
    "    # Calculate MAE and R2 scores for KNN model\n",
    "    mae_knn,r2_knn = mae_r2_score(knn_optimized, X_test_pca, Y_test_i) #X_test_pca, #Y_test_i test size remains same\n",
    "    mae_scores_knn.append(mae_knn)\n",
    "    r2_scores_knn.append(r2_knn)\n",
    "    \n",
    "    # Calculate MAE and R2 for SVR Model\n",
    "    mae_svr, r2_svr = mae_r2_score(svr_optimized, X_test_pca, Y_test_i) #X_test_pca, #Y_test_i test size remains same\n",
    "    mae_scores_svr.append(mae_svr)\n",
    "    r2_scores_svr.append(r2_svr)\n",
    "\n",
    "# Plotting the results\n",
    "plt.figure(figsize=(14, 6))\n",
    "\n",
    "# MAE plot\n",
    "plt.subplot(1, 2, 1)\n",
    "plt.plot(training_sizes, mae_scores_knn, marker='o', label='KNN MAE', color='blue')\n",
    "plt.plot(training_sizes, mae_scores_svr, marker='x', label='SVR MAE', color='green')\n",
    "plt.xlabel('Training Set Size (%)')\n",
    "plt.ylabel('Mean Absolute Error')\n",
    "plt.title('MAE vs Training Set Size')\n",
    "plt.legend()\n",
    "plt.grid(True)\n",
    "\n",
    "# R² Score plot\n",
    "plt.subplot(1, 2, 2)\n",
    "plt.plot(training_sizes, r2_scores_knn, marker='o', label='KNN R²', color='blue')\n",
    "plt.plot(training_sizes, r2_scores_svr, marker='x', label='SVR R²', color='green')\n",
    "plt.xlabel('Training Set Size (%)')\n",
    "plt.ylabel('R² Score')\n",
    "plt.title('R² vs Training Set Size')\n",
    "plt.legend()\n",
    "plt.grid(True)"
   ]
  },
  {
   "cell_type": "markdown",
   "id": "e487e022-c4ef-4b67-8c9c-9a0e81b3e493",
   "metadata": {},
   "source": [
    "Based on the observations gathered by analyzing the impact of increasing training dataset size on generalization performance, it is evident that both K-Nearest Neighbors (KNN) and Support Vector Regression (SVR) show improved performance as the size of the training dataset increases. Specifically, the Mean Absolute Error (MAE) decreases and the R² score increases with larger training sets, indicating that both models are becoming more effective at capturing the underlying patterns in the data. \n",
    "\n",
    "However, after a certain point, the benefits of increasing the training dataset size diminish. As the training set approaches the full dataset, both models tend to stabilize in performance, indicating that additional data may contribute less to improving the model's generalization ability.\n",
    "\n",
    "Thus, while more training data can initially enhance model performance, but beyond a specific threshold the incremental gains in the model's performance become marginal.\n",
    "\n",
    "Moreover, the SVR model outperforms the KNN model as it achievs a higher R² score and lower MAE value as the training dataset size increases. This indicates that SVR model captures the underlying patterns in the data more effectively and hence, leads to better generalization performance."
   ]
  },
  {
   "cell_type": "markdown",
   "id": "5618f120-d835-4246-a2ae-e283b2b33b2f",
   "metadata": {},
   "source": [
    "### 4.2 Best sequence of feature preprocessing"
   ]
  },
  {
   "cell_type": "markdown",
   "id": "6aa1f397-fd49-4bd8-aa95-6f5595204ab7",
   "metadata": {},
   "source": [
    "**NOTE** - \n",
    "1. Outlier detection was not included in the preprocessing sequence because it involves removing or modifying data points. This would alter the dataset and make it challenging to maintain a consistent test dataset across all evaluations and ensure a fair comparison of model performance.\n",
    "\n",
    "2. We applied scaling before PCA in every sequence since PCA requires the data to be standardized for optimal performance."
   ]
  },
  {
   "cell_type": "code",
   "execution_count": 371,
   "id": "7b68c239-a9b7-403c-a8ae-fd40838b41b5",
   "metadata": {},
   "outputs": [],
   "source": [
    "# Defining dictionary to store results\n",
    "results_preprocessing_knn = {}\n",
    "results_preprocessing_svr = {}\n",
    "\n",
    "#SEQUENCE 1: Scaling --> Feature Selection --> PCA\n",
    "\n",
    "# Step 1: Scaling\n",
    "scaler = StandardScaler()\n",
    "scaler.fit(X_train_i)\n",
    "X_train_1 = scaler.transform(X_train_i)\n",
    "X_test_1 = scaler.transform(X_test_i)\n",
    "\n",
    "# Step 2: Feature Selection using f-score and mutual information\n",
    "f, p = f_regression(X_train_1, Y_train_i)\n",
    "f /= np.max(f)\n",
    "mi = mutual_info_regression(X_train_1, Y_train_i)\n",
    "mi /= np.max(mi)\n",
    "X_train_2 = X_train_1[:, (f > 0.25) | (mi > 0.3)]\n",
    "X_test_2 = X_test_1[:, (f > 0.25) | (mi > 0.3)]\n",
    "\n",
    "# Step 3: Dimensionality Reduction using PCA\n",
    "pca = PCA(n_components=0.95)\n",
    "X_train_preprocessed = pca.fit_transform(X_train_2)\n",
    "X_test_preprocessed = pca.transform(X_test_2)\n",
    "\n",
    "# Training KNN model\n",
    "knn_optimized = KNeighborsRegressor(n_neighbors=7)\n",
    "knn_optimized.fit(X_train_preprocessed, Y_train_i)\n",
    "\n",
    "# Training SVR model\n",
    "svr_optimized = SVR(C=100, epsilon=0.1)\n",
    "svr_optimized.fit(X_train_preprocessed, Y_train_i)\n",
    "\n",
    "# Evaluating mae and r2 scores\n",
    "mae_knn, r2_knn = mae_r2_score(knn_optimized, X_test_preprocessed, Y_test_i)\n",
    "mae_svr, r2_svr = mae_r2_score(svr_optimized, X_test_preprocessed, Y_test_i)\n",
    "\n",
    "# Store results\n",
    "results_preprocessing_knn['[Scaling, Feature Selection, PCA]'] = {'MAE': mae_knn, 'R²': r2_knn}\n",
    "results_preprocessing_svr['[Scaling, Feature Selection, PCA]'] = {'MAE': mae_svr, 'R²': r2_svr}\n"
   ]
  },
  {
   "cell_type": "code",
   "execution_count": 373,
   "id": "81d3fd40-af61-43aa-ae03-fa7f822d7d76",
   "metadata": {},
   "outputs": [],
   "source": [
    "#SEQUENCE 2: Feature Selection--> Scaling --> PCA\n",
    "\n",
    "# Step 1: Feature Selection using f-score and mutual information\n",
    "f, p = f_regression(X_train_i, Y_train_i)\n",
    "f /= np.max(f)\n",
    "mi = mutual_info_regression(X_train_i, Y_train_i)\n",
    "mi /= np.max(mi)\n",
    "mask = (f > 0.25) | (mi > 0.3)\n",
    "X_train_1 = X_train_i.loc[:, mask]\n",
    "X_test_1 = X_test_i.loc[:, mask]\n",
    "\n",
    "\n",
    "# Step 2: Scaling\n",
    "scaler = StandardScaler()\n",
    "scaler.fit(X_train_1)\n",
    "X_train_2 = scaler.transform(X_train_1)\n",
    "X_test_2 = scaler.transform(X_test_1)\n",
    "\n",
    "# Step 3: Dimensionality Reduction using PCA\n",
    "pca = PCA(n_components=0.95)\n",
    "X_train_preprocessed = pca.fit_transform(X_train_2)\n",
    "X_test_preprocessed = pca.transform(X_test_2)\n",
    "\n",
    "# Training KNN model\n",
    "knn_optimized = KNeighborsRegressor(n_neighbors=7)\n",
    "knn_optimized.fit(X_train_preprocessed, Y_train_i)\n",
    "\n",
    "# Training SVR model\n",
    "svr_optimized = SVR(C=100, epsilon=0.1)\n",
    "svr_optimized.fit(X_train_preprocessed, Y_train_i)\n",
    "\n",
    "# Evaluating mae and r2 scores\n",
    "mae_knn, r2_knn = mae_r2_score(knn_optimized, X_test_preprocessed, Y_test_i)\n",
    "mae_svr, r2_svr = mae_r2_score(svr_optimized, X_test_preprocessed, Y_test_i)\n",
    "\n",
    "# Store results\n",
    "results_preprocessing_knn['[Feature Selection, Scaling, PCA]'] = {'MAE': mae_knn, 'R²': r2_knn}\n",
    "results_preprocessing_svr['[Feature Selection, Scaling, PCA]'] = {'MAE': mae_svr, 'R²': r2_svr}\n"
   ]
  },
  {
   "cell_type": "code",
   "execution_count": 402,
   "id": "05bf92f5-ab78-4d2c-9682-b0a95599503c",
   "metadata": {},
   "outputs": [],
   "source": [
    "#SEQUENCE 3: Scaling --> PCA --> Feature Selection\n",
    "\n",
    "# Step 1: Scaling\n",
    "scaler = StandardScaler()\n",
    "scaler.fit(X_train_i)\n",
    "X_train_1 = scaler.transform(X_train_i)\n",
    "X_test_1 = scaler.transform(X_test_i)\n",
    "\n",
    "# Step 2: Dimensionality Reduction using PCA\n",
    "pca = PCA(n_components=0.95)\n",
    "X_train_2 = pca.fit_transform(X_train_1)\n",
    "X_test_2 = pca.transform(X_test_1)\n",
    "\n",
    "# Step 3: Feature Selection using f-score and mutual information\n",
    "f, p = f_regression(X_train_2, Y_train_i)\n",
    "f /= np.max(f)\n",
    "mi = mutual_info_regression(X_train_2, Y_train_i)\n",
    "mi /= np.max(mi)\n",
    "X_train_preprocessed = X_train_2[:, (f > 0.25) | (mi > 0.3)]\n",
    "X_test_preprocessed = X_test_2[:, (f > 0.25) | (mi > 0.3)]\n",
    "\n",
    "# Training KNN model\n",
    "knn_optimized = KNeighborsRegressor(n_neighbors=7)\n",
    "knn_optimized.fit(X_train_preprocessed, Y_train_i)\n",
    "\n",
    "# Training SVR model\n",
    "svr_optimized = SVR(C=100, epsilon=0.1)\n",
    "svr_optimized.fit(X_train_preprocessed, Y_train_i)\n",
    "\n",
    "# Evaluating mae and r2 scores\n",
    "mae_knn, r2_knn = mae_r2_score(knn_optimized, X_test_preprocessed, Y_test_i)\n",
    "mae_svr, r2_svr = mae_r2_score(svr_optimized, X_test_preprocessed, Y_test_i)\n",
    "\n",
    "# Store results\n",
    "results_preprocessing_knn['[Scaling, PCA, Feature Selection]'] = {'MAE': mae_knn, 'R²': r2_knn}\n",
    "results_preprocessing_svr['[Scaling, PCA, Feature Selection]'] = {'MAE': mae_svr, 'R²': r2_svr}\n"
   ]
  },
  {
   "cell_type": "code",
   "execution_count": 394,
   "id": "8a4e1d46-9731-480d-ae49-92d4eebf9185",
   "metadata": {},
   "outputs": [
    {
     "name": "stdout",
     "output_type": "stream",
     "text": [
      "Preprocessing results for KNN Model\n",
      "\n",
      "[Scaling, Feature Selection, PCA] -> MAE: 21.466071428571425, R²: 0.9403008906601656\n",
      "[Feature Selection, Scaling, PCA] -> MAE: 21.723214285714278, R²: 0.9380214274261869\n",
      "[Scaling, PCA, Feature Selection] -> MAE: 40.392857142857146, R²: 0.8152132182013073\n",
      "\n",
      "Preprocessing results for SVR Model\n",
      "\n",
      "[Scaling, Feature Selection, PCA] -> MAE: 18.947237570607616, R²: 0.9563082907178568\n",
      "[Feature Selection, Scaling, PCA] -> MAE: 20.925356484013356, R²: 0.9496515682983365\n",
      "[Scaling, PCA, Feature Selection] -> MAE: 34.449291692509235, R²: 0.8719084320419106\n"
     ]
    }
   ],
   "source": [
    "# Displaying the results\n",
    "print('Preprocessing results for KNN Model\\n')\n",
    "for key, value in results_preprocessing_knn.items():\n",
    "    print(f\"{key} -> MAE: {value['MAE']}, R²: {value['R²']}\")\n",
    "\n",
    "print('\\nPreprocessing results for SVR Model\\n')\n",
    "for key, value in results_preprocessing_svr.items():\n",
    "    print(f\"{key} -> MAE: {value['MAE']}, R²: {value['R²']}\")"
   ]
  },
  {
   "cell_type": "markdown",
   "id": "2d2ebeab-55b1-4cf8-ba97-c65fbf34dd54",
   "metadata": {},
   "source": [
    "**Explaination**\n",
    "\n",
    "The sequence of preprocessing techniques significantly impacts the generalization performance for both the KNN and SVR models. \n",
    "\n",
    "For both models, applying the sequence **[Scaling, Feature Selection, PCA]** resulted in the lowest MAE and the highest R² score, hence yielding the best performance. This suggests that scaling before feature selection helps to standardize the data and allows feature selection to identify the most relevant features more effectively. Performing PCA after these steps further reduces dimensionality and preserves the most critical information for the model’s predictive task.\n",
    "\n",
    "In contrast, the sequence **[Scaling, PCA, Feature Selection]** performed the worst for both models as it gave a much higher MAE and lower R² score. This suggests that applying PCA before feature selection may discard valuable features that would otherwise improve model accuracy. \n",
    "\n",
    "We can conlude that the order in which preprocessing steps are applied can have a substantial effect on model performance. Hence, we used the most optimal sequence for this project i.e., [Scaling, Feature Selection, PCA]."
   ]
  }
 ],
 "metadata": {
  "kernelspec": {
   "display_name": "Python 3 (ipykernel)",
   "language": "python",
   "name": "python3"
  },
  "language_info": {
   "codemirror_mode": {
    "name": "ipython",
    "version": 3
   },
   "file_extension": ".py",
   "mimetype": "text/x-python",
   "name": "python",
   "nbconvert_exporter": "python",
   "pygments_lexer": "ipython3",
   "version": "3.12.4"
  }
 },
 "nbformat": 4,
 "nbformat_minor": 5
}
